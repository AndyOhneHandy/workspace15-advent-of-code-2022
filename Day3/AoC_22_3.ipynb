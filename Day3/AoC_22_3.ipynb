{
 "cells": [
  {
   "cell_type": "code",
   "execution_count": 6,
   "metadata": {},
   "outputs": [],
   "source": [
    "with open(\"input3.txt\", \"r\") as file:\n",
    "    data = file.read().replace(\"\\n\",\",\")\n",
    "\n",
    "    data = data.split(\",\")[:-1]"
   ]
  },
  {
   "cell_type": "code",
   "execution_count": 54,
   "metadata": {},
   "outputs": [
    {
     "name": "stdout",
     "output_type": "stream",
     "text": [
      "7872\n"
     ]
    }
   ],
   "source": [
    "# Part 1\n",
    "\n",
    "def split_string(string):\n",
    "    s_length = int(len(string)/2)\n",
    "\n",
    "    front, back = string[:s_length], string[s_length:]\n",
    "\n",
    "    return front, back\n",
    "\n",
    "def check_similar(t):\n",
    "    front, back = t\n",
    "    front_set = set(front)\n",
    "    back_set = set(back)\n",
    "\n",
    "    letter = front_set.intersection(back_set)\n",
    "\n",
    "    return next(iter(letter))\n",
    "\n",
    "def check_score(letter):\n",
    "    if letter.islower():\n",
    "        return ord(letter)-ord(\"a\")+1\n",
    "    elif letter.isupper():\n",
    "        return ord(letter)-ord(\"A\")+27\n",
    "    \n",
    "\n",
    "testlist = [check_similar(split_string(backpack)) for backpack in data]\n",
    "\n",
    "scorelist = [check_score(letter) for letter in testlist]\n",
    "\n",
    "print(sum(scorelist))\n",
    "\n"
   ]
  },
  {
   "cell_type": "code",
   "execution_count": 55,
   "metadata": {},
   "outputs": [
    {
     "name": "stdout",
     "output_type": "stream",
     "text": [
      "2497\n"
     ]
    }
   ],
   "source": [
    "# Part 2\n",
    "def check_badge(bp1, bp2, bp3):\n",
    "    bp1_set = set(bp1)\n",
    "    bp2_set = set(bp2)\n",
    "    bp3_set = set(bp3)\n",
    "\n",
    "    badge_letter = bp1_set.intersection(bp2_set.intersection(bp3_set))\n",
    "\n",
    "    return next(iter(badge_letter))\n",
    "\n",
    "i = 0\n",
    "\n",
    "badgelist = []\n",
    "\n",
    "while i < len(data):\n",
    "    b1 = data[i]\n",
    "    b2 = data[i+1]\n",
    "    b3 = data[i+2]\n",
    "\n",
    "    badgelist += [check_badge(b1,b2,b3)]\n",
    "\n",
    "    i+=3\n",
    "\n",
    "scorelist_v2 = [check_score(letter) for letter in badgelist]\n",
    "\n",
    "print(sum(scorelist_v2))"
   ]
  },
  {
   "cell_type": "code",
   "execution_count": 16,
   "metadata": {},
   "outputs": [
    {
     "data": {
      "text/plain": [
       "{'o', 'w'}"
      ]
     },
     "execution_count": 16,
     "metadata": {},
     "output_type": "execute_result"
    }
   ],
   "source": [
    "test_string = \"wowowowo\"\n",
    "\n",
    "set(test_string)"
   ]
  },
  {
   "cell_type": "code",
   "execution_count": 45,
   "metadata": {},
   "outputs": [
    {
     "data": {
      "text/plain": [
       "27"
      ]
     },
     "execution_count": 45,
     "metadata": {},
     "output_type": "execute_result"
    }
   ],
   "source": [
    "ord(\"b\")-ord(\"a\")+1\n",
    "\n",
    "ord(\"A\")-ord(\"A\")+27"
   ]
  },
  {
   "cell_type": "code",
   "execution_count": 47,
   "metadata": {},
   "outputs": [
    {
     "data": {
      "text/plain": [
       "False"
      ]
     },
     "execution_count": 47,
     "metadata": {},
     "output_type": "execute_result"
    }
   ],
   "source": [
    "\"A\".islower()"
   ]
  },
  {
   "cell_type": "code",
   "execution_count": 53,
   "metadata": {},
   "outputs": [
    {
     "data": {
      "text/plain": [
       "1"
      ]
     },
     "execution_count": 53,
     "metadata": {},
     "output_type": "execute_result"
    }
   ],
   "source": [
    "check_score(\"a\")"
   ]
  }
 ],
 "metadata": {
  "kernelspec": {
   "display_name": "Python 3",
   "language": "python",
   "name": "python3"
  },
  "language_info": {
   "codemirror_mode": {
    "name": "ipython",
    "version": 3
   },
   "file_extension": ".py",
   "mimetype": "text/x-python",
   "name": "python",
   "nbconvert_exporter": "python",
   "pygments_lexer": "ipython3",
   "version": "3.8.10 (default, Jun  2 2021, 10:49:15) \n[GCC 9.4.0]"
  },
  "orig_nbformat": 4,
  "vscode": {
   "interpreter": {
    "hash": "916dbcbb3f70747c44a77c7bcd40155683ae19c65e1c03b4aa3499c5328201f1"
   }
  }
 },
 "nbformat": 4,
 "nbformat_minor": 2
}
