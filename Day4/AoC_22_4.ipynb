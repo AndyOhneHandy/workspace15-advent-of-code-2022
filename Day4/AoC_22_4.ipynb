{
 "cells": [
  {
   "cell_type": "code",
   "execution_count": 10,
   "metadata": {},
   "outputs": [],
   "source": [
    "with open(\"input4.txt\", \"r\") as file:\n",
    "    data = file.read().split(\"\\n\")[:-1]\n",
    "\n",
    "    #data = data.split(\";\")[:-1]"
   ]
  },
  {
   "cell_type": "code",
   "execution_count": 17,
   "metadata": {},
   "outputs": [
    {
     "data": {
      "text/plain": [
       "453"
      ]
     },
     "execution_count": 17,
     "metadata": {},
     "output_type": "execute_result"
    }
   ],
   "source": [
    "# Part 1\n",
    "\n",
    "def splitup_n_check(string):\n",
    "    aslist = string.split(\",\")\n",
    "\n",
    "    a = aslist[0]\n",
    "    b = aslist[1]\n",
    "\n",
    "    avalues =  a.split(\"-\")\n",
    "    a_lo = int(avalues[0])\n",
    "    a_up = int(avalues[1])\n",
    "    \n",
    "    bvalues =  b.split(\"-\")\n",
    "    b_lo = int(bvalues[0])\n",
    "    b_up = int(bvalues[1])\n",
    "\n",
    "    if a_lo <= b_lo and a_up >= b_up:\n",
    "        return 1\n",
    "    elif a_lo >= b_lo and a_up <= b_up:\n",
    "        return 1\n",
    "    else:\n",
    "        return 0\n",
    "\n",
    "sum(splitup_n_check(pair) for pair in data)\n"
   ]
  },
  {
   "cell_type": "code",
   "execution_count": 18,
   "metadata": {},
   "outputs": [
    {
     "data": {
      "text/plain": [
       "919"
      ]
     },
     "execution_count": 18,
     "metadata": {},
     "output_type": "execute_result"
    }
   ],
   "source": [
    "# Part 2\n",
    "\n",
    "def splitup_n_check2(string):\n",
    "    aslist = string.split(\",\")\n",
    "\n",
    "    a = aslist[0]\n",
    "    b = aslist[1]\n",
    "\n",
    "    avalues =  a.split(\"-\")\n",
    "    a_lo = int(avalues[0])\n",
    "    a_up = int(avalues[1])\n",
    "    \n",
    "    bvalues =  b.split(\"-\")\n",
    "    b_lo = int(bvalues[0])\n",
    "    b_up = int(bvalues[1])\n",
    "\n",
    "    if a_lo <= b_lo and a_up >= b_lo:\n",
    "        return 1\n",
    "    elif a_lo >= b_lo and a_lo <= b_up:\n",
    "        return 1\n",
    "    else:\n",
    "        return 0\n",
    "\n",
    "sum(splitup_n_check2(pair) for pair in data)"
   ]
  }
 ],
 "metadata": {
  "kernelspec": {
   "display_name": "Python 3",
   "language": "python",
   "name": "python3"
  },
  "language_info": {
   "codemirror_mode": {
    "name": "ipython",
    "version": 3
   },
   "file_extension": ".py",
   "mimetype": "text/x-python",
   "name": "python",
   "nbconvert_exporter": "python",
   "pygments_lexer": "ipython3",
   "version": "3.8.10 (default, Jun  2 2021, 10:49:15) \n[GCC 9.4.0]"
  },
  "orig_nbformat": 4,
  "vscode": {
   "interpreter": {
    "hash": "916dbcbb3f70747c44a77c7bcd40155683ae19c65e1c03b4aa3499c5328201f1"
   }
  }
 },
 "nbformat": 4,
 "nbformat_minor": 2
}
