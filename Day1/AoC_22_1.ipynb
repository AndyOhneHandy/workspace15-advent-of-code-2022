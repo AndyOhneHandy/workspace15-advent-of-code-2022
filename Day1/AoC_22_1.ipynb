{
 "cells": [
  {
   "cell_type": "code",
   "execution_count": 7,
   "metadata": {},
   "outputs": [],
   "source": [
    "with open(\"input.txt\", \"r\") as file:\n",
    "    data = file.read().replace(\"\\n\",\",\")\n",
    "\n",
    "    data = data.split(\",\")"
   ]
  },
  {
   "cell_type": "code",
   "execution_count": 14,
   "metadata": {},
   "outputs": [
    {
     "name": "stdout",
     "output_type": "stream",
     "text": [
      "72602\n"
     ]
    }
   ],
   "source": [
    "# Part 1\n",
    "\n",
    "accum_list = []\n",
    "\n",
    "calories_per_elf = 0\n",
    "\n",
    "for calories in data:\n",
    "    trigger = False\n",
    "    if calories == \"\":\n",
    "        accum_list += [calories_per_elf]\n",
    "        calories_per_elf = 0\n",
    "    else:\n",
    "        calories_per_elf += int(calories)\n",
    "    \n",
    "\n",
    "print(max(accum_list))"
   ]
  },
  {
   "cell_type": "code",
   "execution_count": 27,
   "metadata": {},
   "outputs": [
    {
     "name": "stdout",
     "output_type": "stream",
     "text": [
      "[72602, 68012, 66796] 207410\n"
     ]
    }
   ],
   "source": [
    "# Part 2\n",
    "\n",
    "accum_list_sorted = sorted(accum_list, reverse=True)\n",
    "print(accum_list_sorted[0:3], sum(accum_list_sorted[0:3]))"
   ]
  }
 ],
 "metadata": {
  "kernelspec": {
   "display_name": "Python 3.8.10 64-bit",
   "language": "python",
   "name": "python3"
  },
  "language_info": {
   "codemirror_mode": {
    "name": "ipython",
    "version": 3
   },
   "file_extension": ".py",
   "mimetype": "text/x-python",
   "name": "python",
   "nbconvert_exporter": "python",
   "pygments_lexer": "ipython3",
   "version": "3.8.10 (default, Jun  2 2021, 10:49:15) \n[GCC 9.4.0]"
  },
  "orig_nbformat": 4,
  "vscode": {
   "interpreter": {
    "hash": "916dbcbb3f70747c44a77c7bcd40155683ae19c65e1c03b4aa3499c5328201f1"
   }
  }
 },
 "nbformat": 4,
 "nbformat_minor": 2
}
