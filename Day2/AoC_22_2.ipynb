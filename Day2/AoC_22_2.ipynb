{
 "cells": [
  {
   "cell_type": "code",
   "execution_count": 1,
   "metadata": {},
   "outputs": [],
   "source": [
    "with open(\"input2.txt\", \"r\") as file:\n",
    "    data = file.read().replace(\"\\n\",\",\")\n",
    "\n",
    "    data = data.split(\",\")\n"
   ]
  },
  {
   "cell_type": "code",
   "execution_count": 36,
   "metadata": {},
   "outputs": [],
   "source": [
    "data_clean = []\n",
    "data_clean += [a for a in data if len(a)==3]"
   ]
  },
  {
   "cell_type": "code",
   "execution_count": 37,
   "metadata": {},
   "outputs": [
    {
     "name": "stdout",
     "output_type": "stream",
     "text": [
      "10624\n"
     ]
    }
   ],
   "source": [
    "# Part 1\n",
    "\n",
    "def check_winner(opp, you):\n",
    "    if [opp,you] == [\"A\",\"X\"] or [opp,you] == [\"B\",\"Y\"] or [opp,you] == [\"C\",\"Z\"]:\n",
    "        win = 3\n",
    "    elif [opp,you] == [\"A\",\"Z\"] or [opp,you] == [\"B\",\"X\"] or [opp,you] == [\"C\",\"Y\"]:\n",
    "        win = 0\n",
    "    else:\n",
    "        win = 6\n",
    "    \n",
    "    return win\n",
    "\n",
    "def strat_score(you):\n",
    "    if you == \"X\":\n",
    "        return 1\n",
    "    elif you == \"Y\":\n",
    "        return 2\n",
    "    elif you == \"Z\":\n",
    "        return 3\n",
    "    \n",
    "\n",
    "def winner_n_score(tuple):\n",
    "    strats = tuple.split(\" \")\n",
    "    opponent_strat = strats[0]\n",
    "    own_strat = strats[1]\n",
    "\n",
    "    return check_winner(opponent_strat, own_strat) + strat_score(own_strat)\n",
    "\n",
    "scorelist = []\n",
    "for game in data_clean:\n",
    "    scorelist += [winner_n_score(game)]\n",
    "\n",
    "print(sum(scorelist))"
   ]
  },
  {
   "cell_type": "code",
   "execution_count": 58,
   "metadata": {},
   "outputs": [
    {
     "name": "stdout",
     "output_type": "stream",
     "text": [
      "14060\n"
     ]
    }
   ],
   "source": [
    "# Part 2\n",
    "\n",
    "# If A, play Y to win, X for draw and Z for lose\n",
    "relations = {\n",
    "    \"A\": [\"Y\",\"X\",\"Z\"],\n",
    "    \"B\": [\"Z\",\"Y\",\"X\"],\n",
    "    \"C\": [\"X\",\"Z\",\"Y\"]\n",
    "    }\n",
    "\n",
    "def return_strategy(opp, out):\n",
    "    if out == \"Z\":\n",
    "        col = 0\n",
    "    elif out == \"Y\":\n",
    "        col = 1\n",
    "    elif out == \"X\":\n",
    "        col = 2\n",
    "    \n",
    "    return relations[opp][col]\n",
    "\n",
    "\n",
    "def answer_score(tuple):\n",
    "    strats = tuple.split(\" \")\n",
    "    opponent_strat = strats[0]\n",
    "    outcome = strats[1]\n",
    "    own_strat = return_strategy(opponent_strat, outcome)\n",
    "\n",
    "    return   strat_score(own_strat) + check_winner(opponent_strat, own_strat)\n",
    "\n",
    "\n",
    "scorelist2 = []\n",
    "for game in data_clean:\n",
    "    scorelist2 += [answer_score(game)]\n",
    "\n",
    "print(sum(scorelist2))\n"
   ]
  },
  {
   "cell_type": "code",
   "execution_count": 59,
   "metadata": {},
   "outputs": [
    {
     "name": "stdout",
     "output_type": "stream",
     "text": [
      "4\n",
      "1\n",
      "7\n"
     ]
    }
   ],
   "source": [
    "print(answer_score(\"A Y\"))\n",
    "print(answer_score(\"B X\"))\n",
    "print(answer_score(\"C Z\"))"
   ]
  }
 ],
 "metadata": {
  "kernelspec": {
   "display_name": "Python 3.8.10 64-bit",
   "language": "python",
   "name": "python3"
  },
  "language_info": {
   "codemirror_mode": {
    "name": "ipython",
    "version": 3
   },
   "file_extension": ".py",
   "mimetype": "text/x-python",
   "name": "python",
   "nbconvert_exporter": "python",
   "pygments_lexer": "ipython3",
   "version": "3.8.10"
  },
  "orig_nbformat": 4,
  "vscode": {
   "interpreter": {
    "hash": "916dbcbb3f70747c44a77c7bcd40155683ae19c65e1c03b4aa3499c5328201f1"
   }
  }
 },
 "nbformat": 4,
 "nbformat_minor": 2
}
