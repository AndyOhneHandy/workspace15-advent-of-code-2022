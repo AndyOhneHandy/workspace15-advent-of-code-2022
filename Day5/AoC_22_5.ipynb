{
 "cells": [
  {
   "cell_type": "code",
   "execution_count": 41,
   "metadata": {},
   "outputs": [],
   "source": [
    "with open(\"input5.txt\", \"r\") as file:\n",
    "    data = file.read().replace(\"\\n\",\",\")\n",
    "\n",
    "    data = data.split(\",\")[:-1]\n",
    "    data = data[10:]\n",
    "\n",
    "\n"
   ]
  },
  {
   "cell_type": "code",
   "execution_count": 42,
   "metadata": {},
   "outputs": [
    {
     "name": "stdout",
     "output_type": "stream",
     "text": [
      "BZLVHBWQF\n"
     ]
    }
   ],
   "source": [
    "# Part 1\n",
    "\n",
    "stacks = {\n",
    "    1 : list(\"QSWCZVFT\"),\n",
    "    2 : list(\"QRB\"),\n",
    "    3 : list(\"BZTQPMS\"),\n",
    "    4 : list(\"DVFRQH\"),\n",
    "    5 : list(\"JGLDBSTP\"),\n",
    "    6 : list(\"WRTZ\"),\n",
    "    7 : list(\"HQMNSFRJ\"),\n",
    "    8 : list(\"RNFHW\"),\n",
    "    9 : list(\"JZTQPRB\"),\n",
    "}\n",
    "\n",
    "def stripcommand(command):\n",
    "    as_list = command.split(\" \")\n",
    "    move = int(as_list[1])\n",
    "    from_stack = int(as_list[3])\n",
    "    to_stack = int(as_list[5])\n",
    "\n",
    "    return((move, from_stack, to_stack))\n",
    "\n",
    "def move_item(from_stack, to_stack):\n",
    "    stacks[to_stack].append(stacks[from_stack].pop())\n",
    "\n",
    "\n",
    "for command in data:\n",
    "    strip_c = stripcommand(command)\n",
    "    i = 0\n",
    "    while i < strip_c[0]:\n",
    "        move_item(strip_c[1], strip_c[2])\n",
    "        i+= 1\n",
    "\n",
    "\n",
    "top_of_stack = [value[-1] for _, value in stacks.items()]\n",
    "\n",
    "print(\"\".join(top_of_stack))"
   ]
  },
  {
   "cell_type": "code",
   "execution_count": 44,
   "metadata": {},
   "outputs": [
    {
     "name": "stdout",
     "output_type": "stream",
     "text": [
      "TDGJQTZSL\n"
     ]
    }
   ],
   "source": [
    "# Part 2\n",
    "\n",
    "stacks = {\n",
    "    1 : list(\"QSWCZVFT\"),\n",
    "    2 : list(\"QRB\"),\n",
    "    3 : list(\"BZTQPMS\"),\n",
    "    4 : list(\"DVFRQH\"),\n",
    "    5 : list(\"JGLDBSTP\"),\n",
    "    6 : list(\"WRTZ\"),\n",
    "    7 : list(\"HQMNSFRJ\"),\n",
    "    8 : list(\"RNFHW\"),\n",
    "    9 : list(\"JZTQPRB\"),\n",
    "}\n",
    "\n",
    "def move_item_9001(count, from_stack, to_stack):\n",
    "    movelist = stacks[from_stack][-count:]\n",
    "    stacks[from_stack] = stacks[from_stack][:-count]\n",
    "\n",
    "    stacks[to_stack] += movelist\n",
    "\n",
    "\n",
    "for command in data:\n",
    "    strip_c = stripcommand(command)\n",
    "\n",
    "    move_item_9001(strip_c[0], strip_c[1], strip_c[2])\n",
    "\n",
    "top_of_stack = [value[-1] for _, value in stacks.items()]\n",
    "\n",
    "print(\"\".join(top_of_stack))\n"
   ]
  },
  {
   "cell_type": "code",
   "execution_count": null,
   "metadata": {},
   "outputs": [
    {
     "name": "stdout",
     "output_type": "stream",
     "text": [
      "['a', 'b', 'c', 'd', 'e', 'f', 'g', '1', '3qwe', '123']\n"
     ]
    }
   ],
   "source": [
    "stacks[1][-3:]\n",
    "\n",
    "testlist = list(\"abcdefg\")\n",
    "\n",
    "#testlist += [a for a in [\"1\", \"3qwe\", \"123\"]]\n",
    "testlist += [\"1\", \"3qwe\", \"123\"]\n",
    "\n",
    "print(testlist)"
   ]
  },
  {
   "cell_type": "code",
   "execution_count": null,
   "metadata": {},
   "outputs": [],
   "source": [
    "# Testing"
   ]
  },
  {
   "cell_type": "code",
   "execution_count": null,
   "metadata": {},
   "outputs": [],
   "source": [
    "# print(stacks[\"1\"], stacks[\"2\"])\n",
    "# move_item(1,2)\n",
    "\n",
    "# print(stacks[\"1\"], stacks[\"2\"])"
   ]
  },
  {
   "cell_type": "code",
   "execution_count": null,
   "metadata": {},
   "outputs": [],
   "source": [
    "# stripcommand(\"move 3 from 8 to 2\")"
   ]
  },
  {
   "cell_type": "code",
   "execution_count": null,
   "metadata": {},
   "outputs": [],
   "source": [
    "# for a, value in stacks.items():\n",
    "#     print(value[-1])\n"
   ]
  },
  {
   "cell_type": "code",
   "execution_count": null,
   "metadata": {},
   "outputs": [],
   "source": [
    "# s1 = list(\"QSWCZVFT\")\n",
    "# s2 = list(\"QRB\")\n",
    "# s3 = list(\"BZTQPMS\")\n",
    "# s4 = list(\"DVFRQH\")\n",
    "# s5 = list(\"JGLDBSTP\")\n",
    "# s6 = list(\"WRTZ\")\n",
    "# s7 = list(\"HQMNSFRJ\")\n",
    "# s8 = list(\"RNFHW\")\n",
    "# s9 = list(\"JZTQPRB\")"
   ]
  },
  {
   "cell_type": "code",
   "execution_count": null,
   "metadata": {},
   "outputs": [],
   "source": [
    "#s1 = list(\"QSWCZVFT\")\n",
    "\n",
    "# print(stacks[\"1\"].pop())\n",
    "\n",
    "# print(stacks[\"1\"])"
   ]
  }
 ],
 "metadata": {
  "kernelspec": {
   "display_name": "Python 3",
   "language": "python",
   "name": "python3"
  },
  "language_info": {
   "codemirror_mode": {
    "name": "ipython",
    "version": 3
   },
   "file_extension": ".py",
   "mimetype": "text/x-python",
   "name": "python",
   "nbconvert_exporter": "python",
   "pygments_lexer": "ipython3",
   "version": "3.8.10"
  },
  "orig_nbformat": 4,
  "vscode": {
   "interpreter": {
    "hash": "916dbcbb3f70747c44a77c7bcd40155683ae19c65e1c03b4aa3499c5328201f1"
   }
  }
 },
 "nbformat": 4,
 "nbformat_minor": 2
}
